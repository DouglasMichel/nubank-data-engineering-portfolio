{
 "cells": [
  {
   "cell_type": "code",
   "execution_count": 1,
   "id": "a8cba649",
   "metadata": {},
   "outputs": [],
   "source": [
    "import re\n",
    "import os\n",
    "from pathlib import Path\n",
    "from datetime import datetime\n",
    "from datetime import date"
   ]
  },
  {
   "cell_type": "code",
   "execution_count": 2,
   "id": "4ff5c4e0",
   "metadata": {},
   "outputs": [],
   "source": [
    "caminho_cred = Path('C:/Users/dougl/OneDrive/Área de Trabalho/ESTUDOS/nubank-data-engineering-portfolio/arquivos_nubank/cartao_credito')"
   ]
  },
  {
   "cell_type": "code",
   "execution_count": 4,
   "id": "817b239a",
   "metadata": {},
   "outputs": [
    {
     "data": {
      "text/plain": [
       "datetime.date(2024, 12, 19)"
      ]
     },
     "metadata": {},
     "output_type": "display_data"
    },
    {
     "data": {
      "text/plain": [
       "[datetime.date(2024, 1, 19),\n",
       " datetime.date(2024, 2, 19),\n",
       " datetime.date(2024, 3, 19),\n",
       " datetime.date(2024, 4, 19),\n",
       " datetime.date(2024, 5, 19),\n",
       " datetime.date(2024, 6, 19),\n",
       " datetime.date(2024, 7, 19),\n",
       " datetime.date(2024, 8, 19),\n",
       " datetime.date(2024, 9, 19),\n",
       " datetime.date(2024, 10, 19),\n",
       " datetime.date(2024, 11, 19),\n",
       " datetime.date(2024, 12, 19)]"
      ]
     },
     "metadata": {},
     "output_type": "display_data"
    }
   ],
   "source": [
    "lista_arquivos = []\n",
    "\n",
    "def funcao_data_csv(nome):  \n",
    "    data_csv = re.findall(r'\\d{4}-\\d{2}-\\d{2}', nome)\n",
    "    return data_csv\n",
    "\n",
    "for csv in os.listdir(caminho_cred):\n",
    "    if csv.endswith('.csv'):\n",
    "        lista_arquivos.append(datetime.strptime(funcao_data_csv(csv)[0], r'%Y-%m-%d').date())\n",
    "\n",
    "apenas_arquivo_maior = [d for d in lista_arquivos if d >= datetime.strptime('2024-01-01', r'%Y-%m-%d').date()]\n",
    "display(max(lista_arquivos))\n",
    "display(apenas_arquivo_maior)"
   ]
  }
 ],
 "metadata": {
  "kernelspec": {
   "display_name": "Python 3",
   "language": "python",
   "name": "python3"
  },
  "language_info": {
   "codemirror_mode": {
    "name": "ipython",
    "version": 3
   },
   "file_extension": ".py",
   "mimetype": "text/x-python",
   "name": "python",
   "nbconvert_exporter": "python",
   "pygments_lexer": "ipython3",
   "version": "3.11.7"
  }
 },
 "nbformat": 4,
 "nbformat_minor": 5
}
