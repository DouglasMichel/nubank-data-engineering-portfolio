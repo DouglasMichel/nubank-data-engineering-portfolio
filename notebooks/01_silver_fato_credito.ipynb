{
 "cells": [
  {
   "cell_type": "code",
   "execution_count": 21,
   "id": "cbeff18b",
   "metadata": {},
   "outputs": [],
   "source": [
    "import polars as pl\n",
    "from deltalake import write_deltalake, DeltaTable\n",
    "import os\n",
    "from datetime import date\n",
    "from pathlib import Path as path"
   ]
  },
  {
   "cell_type": "code",
   "execution_count": 39,
   "id": "4b216ec6",
   "metadata": {},
   "outputs": [],
   "source": [
    "bronze_path = path('C:/Users/dougl/OneDrive/Área de Trabalho/ESTUDOS/nubank-data-engineering-portfolio/data/bronze/credito')"
   ]
  },
  {
   "cell_type": "code",
   "execution_count": null,
   "id": "320d1c72",
   "metadata": {},
   "outputs": [],
   "source": [
    "df_credito_delta = DeltaTable(bronze_path)\n",
    "\n",
    "df_credito_pl = pl.from_arrow(df_credito_delta.to_pyarrow_table())"
   ]
  },
  {
   "cell_type": "code",
   "execution_count": 44,
   "id": "68d058ff",
   "metadata": {},
   "outputs": [],
   "source": [
    "df_credito_renomeia_colunas =  df_credito_pl.rename({'date':'data', 'title':'descricao', 'amount':'valor'})"
   ]
  },
  {
   "cell_type": "code",
   "execution_count": 62,
   "id": "1cad22c2",
   "metadata": {},
   "outputs": [
    {
     "data": {
      "text/html": [
       "<div><style>\n",
       ".dataframe > thead > tr,\n",
       ".dataframe > tbody > tr {\n",
       "  text-align: right;\n",
       "  white-space: pre-wrap;\n",
       "}\n",
       "</style>\n",
       "<small>shape: (5, 3)</small><table border=\"1\" class=\"dataframe\"><thead><tr><th>data</th><th>descricao</th><th>valor</th></tr><tr><td>date</td><td>str</td><td>f64</td></tr></thead><tbody><tr><td>2023-01-01</td><td>&quot;iFood*Rest&quot;</td><td>49.03</td></tr><tr><td>2023-01-03</td><td>&quot;AliExpress&quot;</td><td>87.72</td></tr><tr><td>2023-01-03</td><td>&quot;Mercado Livre&quot;</td><td>133.27</td></tr><tr><td>2023-01-04</td><td>&quot;Apple.com/bill&quot;</td><td>168.72</td></tr><tr><td>2023-01-05</td><td>&quot;Drogasil&quot;</td><td>189.6</td></tr></tbody></table></div>"
      ],
      "text/plain": [
       "shape: (5, 3)\n",
       "┌────────────┬────────────────┬────────┐\n",
       "│ data       ┆ descricao      ┆ valor  │\n",
       "│ ---        ┆ ---            ┆ ---    │\n",
       "│ date       ┆ str            ┆ f64    │\n",
       "╞════════════╪════════════════╪════════╡\n",
       "│ 2023-01-01 ┆ iFood*Rest     ┆ 49.03  │\n",
       "│ 2023-01-03 ┆ AliExpress     ┆ 87.72  │\n",
       "│ 2023-01-03 ┆ Mercado Livre  ┆ 133.27 │\n",
       "│ 2023-01-04 ┆ Apple.com/bill ┆ 168.72 │\n",
       "│ 2023-01-05 ┆ Drogasil       ┆ 189.6  │\n",
       "└────────────┴────────────────┴────────┘"
      ]
     },
     "metadata": {},
     "output_type": "display_data"
    }
   ],
   "source": [
    "df_credito_tipagem = df_credito_renomeia_colunas.with_columns([\n",
    "    pl.col('data').str.strptime(pl.Date)\n",
    "])\n",
    "\n",
    "display(df_credito_tipagem.head(5))"
   ]
  },
  {
   "cell_type": "code",
   "execution_count": 70,
   "id": "ce0b94ab",
   "metadata": {},
   "outputs": [
    {
     "data": {
      "text/html": [
       "<div><style>\n",
       ".dataframe > thead > tr,\n",
       ".dataframe > tbody > tr {\n",
       "  text-align: right;\n",
       "  white-space: pre-wrap;\n",
       "}\n",
       "</style>\n",
       "<small>shape: (14, 4)</small><table border=\"1\" class=\"dataframe\"><thead><tr><th>data</th><th>descricao</th><th>valor</th><th>parcela</th></tr><tr><td>date</td><td>str</td><td>f64</td><td>str</td></tr></thead><tbody><tr><td>2023-01-28</td><td>&quot;Amazon Mktp&quot;</td><td>151.84</td><td>null</td></tr><tr><td>2023-02-28</td><td>&quot;Amazon Mktp&quot;</td><td>78.9</td><td>null</td></tr><tr><td>2024-02-22</td><td>&quot;Amazon Mktp&quot;</td><td>98.97</td><td>null</td></tr><tr><td>2023-03-08</td><td>&quot;Amazon Mktp&quot;</td><td>28.91</td><td>null</td></tr><tr><td>2024-04-04</td><td>&quot;Amazon Mktp&quot;</td><td>17.69</td><td>null</td></tr><tr><td>&hellip;</td><td>&hellip;</td><td>&hellip;</td><td>&hellip;</td></tr><tr><td>2023-09-07</td><td>&quot;Amazon Mktp&quot;</td><td>164.69</td><td>null</td></tr><tr><td>2023-09-12</td><td>&quot;Amazon Mktp 1/4&quot;</td><td>419.06</td><td>&quot;1/4&quot;</td></tr><tr><td>2023-10-11</td><td>&quot;Amazon Mktp&quot;</td><td>112.46</td><td>null</td></tr><tr><td>2023-11-28</td><td>&quot;Amazon Mktp&quot;</td><td>108.11</td><td>null</td></tr><tr><td>2023-12-27</td><td>&quot;Amazon Mktp&quot;</td><td>162.58</td><td>null</td></tr></tbody></table></div>"
      ],
      "text/plain": [
       "shape: (14, 4)\n",
       "┌────────────┬─────────────────┬────────┬─────────┐\n",
       "│ data       ┆ descricao       ┆ valor  ┆ parcela │\n",
       "│ ---        ┆ ---             ┆ ---    ┆ ---     │\n",
       "│ date       ┆ str             ┆ f64    ┆ str     │\n",
       "╞════════════╪═════════════════╪════════╪═════════╡\n",
       "│ 2023-01-28 ┆ Amazon Mktp     ┆ 151.84 ┆ null    │\n",
       "│ 2023-02-28 ┆ Amazon Mktp     ┆ 78.9   ┆ null    │\n",
       "│ 2024-02-22 ┆ Amazon Mktp     ┆ 98.97  ┆ null    │\n",
       "│ 2023-03-08 ┆ Amazon Mktp     ┆ 28.91  ┆ null    │\n",
       "│ 2024-04-04 ┆ Amazon Mktp     ┆ 17.69  ┆ null    │\n",
       "│ …          ┆ …               ┆ …      ┆ …       │\n",
       "│ 2023-09-07 ┆ Amazon Mktp     ┆ 164.69 ┆ null    │\n",
       "│ 2023-09-12 ┆ Amazon Mktp 1/4 ┆ 419.06 ┆ 1/4     │\n",
       "│ 2023-10-11 ┆ Amazon Mktp     ┆ 112.46 ┆ null    │\n",
       "│ 2023-11-28 ┆ Amazon Mktp     ┆ 108.11 ┆ null    │\n",
       "│ 2023-12-27 ┆ Amazon Mktp     ┆ 162.58 ┆ null    │\n",
       "└────────────┴─────────────────┴────────┴─────────┘"
      ]
     },
     "metadata": {},
     "output_type": "display_data"
    }
   ],
   "source": [
    "df_credito_adiciona_parcela = df_credito_tipagem.with_columns([\n",
    "    pl.when(pl.col('descricao').str.contains(r'(\\d+/\\d+)'))\n",
    "    .then(pl.col('descricao').str.extract(r'(\\d+/\\d+)'))\n",
    "    .otherwise(None)\n",
    "    .alias('parcela')\n",
    "])\n",
    "\n",
    "df_filtrado = df_credito_adiciona_parcela.filter(pl.col(\"descricao\").str.contains(\"Amazon\"))\n",
    "display(df_filtrado)"
   ]
  }
 ],
 "metadata": {
  "kernelspec": {
   "display_name": "Python 3",
   "language": "python",
   "name": "python3"
  },
  "language_info": {
   "codemirror_mode": {
    "name": "ipython",
    "version": 3
   },
   "file_extension": ".py",
   "mimetype": "text/x-python",
   "name": "python",
   "nbconvert_exporter": "python",
   "pygments_lexer": "ipython3",
   "version": "3.11.7"
  }
 },
 "nbformat": 4,
 "nbformat_minor": 5
}
