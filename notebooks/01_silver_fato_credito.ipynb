{
 "cells": [
  {
   "cell_type": "code",
   "execution_count": 21,
   "id": "cbeff18b",
   "metadata": {},
   "outputs": [],
   "source": [
    "import polars as pl\n",
    "from deltalake import write_deltalake, DeltaTable\n",
    "import os\n",
    "from datetime import date\n",
    "from pathlib import Path as path"
   ]
  },
  {
   "cell_type": "code",
   "execution_count": 39,
   "id": "4b216ec6",
   "metadata": {},
   "outputs": [],
   "source": [
    "bronze_path = path('C:/Users/dougl/OneDrive/Área de Trabalho/ESTUDOS/nubank-data-engineering-portfolio/data/bronze/credito')"
   ]
  },
  {
   "cell_type": "code",
   "execution_count": null,
   "id": "320d1c72",
   "metadata": {},
   "outputs": [],
   "source": [
    "df_credito_delta = DeltaTable(bronze_path)\n",
    "\n",
    "df_credito_pl = pl.from_arrow(df_credito_delta.to_pyarrow_table())"
   ]
  },
  {
   "cell_type": "code",
   "execution_count": 44,
   "id": "68d058ff",
   "metadata": {},
   "outputs": [],
   "source": [
    "df_credito_renomeia_colunas =  df_credito_pl.rename({'date':'data', 'title':'descricao', 'amount':'valor'})"
   ]
  },
  {
   "cell_type": "code",
   "execution_count": null,
   "id": "1cad22c2",
   "metadata": {},
   "outputs": [
    {
     "data": {
      "text/html": [
       "<div><style>\n",
       ".dataframe > thead > tr,\n",
       ".dataframe > tbody > tr {\n",
       "  text-align: right;\n",
       "  white-space: pre-wrap;\n",
       "}\n",
       "</style>\n",
       "<small>shape: (604, 3)</small><table border=\"1\" class=\"dataframe\"><thead><tr><th>data</th><th>descricao</th><th>valor</th></tr><tr><td>str</td><td>str</td><td>f64</td></tr></thead><tbody><tr><td>&quot;2023-01-01&quot;</td><td>&quot;iFood*Rest&quot;</td><td>49.03</td></tr><tr><td>&quot;2023-01-03&quot;</td><td>&quot;AliExpress&quot;</td><td>87.72</td></tr><tr><td>&quot;2023-01-03&quot;</td><td>&quot;Mercado Livre&quot;</td><td>133.27</td></tr><tr><td>&quot;2023-01-04&quot;</td><td>&quot;Apple.com/bill&quot;</td><td>168.72</td></tr><tr><td>&quot;2023-01-05&quot;</td><td>&quot;Drogasil&quot;</td><td>189.6</td></tr><tr><td>&hellip;</td><td>&hellip;</td><td>&hellip;</td></tr><tr><td>&quot;2023-12-25&quot;</td><td>&quot;Google*Play&quot;</td><td>210.95</td></tr><tr><td>&quot;2023-12-25&quot;</td><td>&quot;Rappi&quot;</td><td>118.9</td></tr><tr><td>&quot;2023-12-25&quot;</td><td>&quot;Mercado Livre&quot;</td><td>56.6</td></tr><tr><td>&quot;2023-12-27&quot;</td><td>&quot;Carrefour&quot;</td><td>235.26</td></tr><tr><td>&quot;2023-12-27&quot;</td><td>&quot;Amazon Mktp&quot;</td><td>162.58</td></tr></tbody></table></div>"
      ],
      "text/plain": [
       "shape: (604, 3)\n",
       "┌────────────┬────────────────┬────────┐\n",
       "│ data       ┆ descricao      ┆ valor  │\n",
       "│ ---        ┆ ---            ┆ ---    │\n",
       "│ str        ┆ str            ┆ f64    │\n",
       "╞════════════╪════════════════╪════════╡\n",
       "│ 2023-01-01 ┆ iFood*Rest     ┆ 49.03  │\n",
       "│ 2023-01-03 ┆ AliExpress     ┆ 87.72  │\n",
       "│ 2023-01-03 ┆ Mercado Livre  ┆ 133.27 │\n",
       "│ 2023-01-04 ┆ Apple.com/bill ┆ 168.72 │\n",
       "│ 2023-01-05 ┆ Drogasil       ┆ 189.6  │\n",
       "│ …          ┆ …              ┆ …      │\n",
       "│ 2023-12-25 ┆ Google*Play    ┆ 210.95 │\n",
       "│ 2023-12-25 ┆ Rappi          ┆ 118.9  │\n",
       "│ 2023-12-25 ┆ Mercado Livre  ┆ 56.6   │\n",
       "│ 2023-12-27 ┆ Carrefour      ┆ 235.26 │\n",
       "│ 2023-12-27 ┆ Amazon Mktp    ┆ 162.58 │\n",
       "└────────────┴────────────────┴────────┘"
      ]
     },
     "metadata": {},
     "output_type": "display_data"
    }
   ],
   "source": [
    "df_credito_tipagem = df_credito_renomeia_colunas.withcolumns([\n",
    "        pl.col('')\n",
    "])\n",
    "\n",
    "display(df_credito_renomeia_colunas)"
   ]
  }
 ],
 "metadata": {
  "kernelspec": {
   "display_name": "Python 3",
   "language": "python",
   "name": "python3"
  },
  "language_info": {
   "codemirror_mode": {
    "name": "ipython",
    "version": 3
   },
   "file_extension": ".py",
   "mimetype": "text/x-python",
   "name": "python",
   "nbconvert_exporter": "python",
   "pygments_lexer": "ipython3",
   "version": "3.11.7"
  }
 },
 "nbformat": 4,
 "nbformat_minor": 5
}
