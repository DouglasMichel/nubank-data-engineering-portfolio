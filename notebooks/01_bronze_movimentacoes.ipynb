{
 "cells": [
  {
   "cell_type": "code",
   "execution_count": 1,
   "id": "2c1156e9",
   "metadata": {},
   "outputs": [],
   "source": [
    "import pandas as pd\n",
    "import os\n",
    "import pyarrow.parquet as pq\n",
    "from datetime import date \n",
    "from pathlib import Path\n",
    "import shutil\n",
    "import stat"
   ]
  },
  {
   "cell_type": "code",
   "execution_count": null,
   "id": "a843ae87",
   "metadata": {},
   "outputs": [],
   "source": [
    "# VARIAVEIS\n",
    "\n",
    "# caminho dos arquivos csv's de movimentação\n",
    "path_movimetacao = Path(\"C:/Users/dougl/OneDrive/Área de Trabalho/ESTUDOS/nubank-data-engineering-portfolio/arquivos_nubank/conta\")\n",
    "\n",
    "# caminho dos arquivos csv's de gastos em créditos\n",
    "path_credito = Path(\"C:/Users/dougl/OneDrive/Área de Trabalho/ESTUDOS/nubank-data-engineering-portfolio/arquivos_nubank/cartao_credito\")\n",
    "\n",
    "# data atual para ser utilizada como parte do nome das pastas em que será salvo os arquivos parquet\n",
    "today = date.today().isoformat()\n",
    "\n",
    "# caminho para salvar arquivo parquet final na pasta bronze\n",
    "path_bronze = Path(f\"C:/Users/dougl/OneDrive/Área de Trabalho/ESTUDOS/nubank-data-engineering-portfolio/data/bronze/{today}\")\n",
    "\n",
    "# Remove a pasta e arquivos dentro dela caso já exista (path_bronze)\n",
    "def remove_readonly(func, path, _):\n",
    "    \"\"\"Altera permissão para escrita e tenta remover o arquivo novamente\"\"\"\n",
    "    os.chmod(path, stat.S_IWRITE)\n",
    "    func(path)\n",
    "\n",
    "# Excluir a pasta se ela já existir\n",
    "if os.path.exists(path_bronze):\n",
    "    shutil.rmtree(path_bronze, onerror=remove_readonly)\n",
    "\n",
    "# criar o caminho para salvar os arquivos\n",
    "os.makedirs(path_bronze)"
   ]
  },
  {
   "cell_type": "code",
   "execution_count": 3,
   "id": "82809b93",
   "metadata": {},
   "outputs": [],
   "source": [
    "## Função para unificar os arquivos e retornar em um dataframe para que possa salvar na camada raw\n",
    "\n",
    "def unifica_arquivos(local_arquivo):\n",
    "    lista_dfs = []\n",
    "        \n",
    "    for arquivo in os.listdir(local_arquivo):\n",
    "        if arquivo.endswith('.csv'):\n",
    "            caminho_arquivo = os.path.join(local_arquivo, arquivo)\n",
    "            df = pd.read_csv(caminho_arquivo)\n",
    "            lista_dfs.append(df)\n",
    "\n",
    "    arquivo_final = pd.concat(lista_dfs, ignore_index = True)\n",
    "\n",
    "    return arquivo_final"
   ]
  },
  {
   "cell_type": "code",
   "execution_count": 4,
   "id": "5659538f",
   "metadata": {},
   "outputs": [],
   "source": [
    "# ingestão dos dados dos csv's de movimentação da conta\n",
    "\n",
    "df_movimentacao = unifica_arquivos(path_movimetacao)\n",
    "\n",
    "caminho_bronze_movimentacao = Path(path_bronze/\"movimentacao.parquet\")\n",
    "\n",
    "df_movimentacao.to_parquet(caminho_bronze_movimentacao, engine = \"pyarrow\", index = False)"
   ]
  },
  {
   "cell_type": "code",
   "execution_count": 5,
   "id": "130f6655",
   "metadata": {},
   "outputs": [],
   "source": [
    "# ingestão dos dados dos csv's de compras em crédito\n",
    "\n",
    "df_credito = unifica_arquivos(path_credito)\n",
    "\n",
    "caminho_bronze_credito = Path(path_bronze/\"credito.parquet\")\n",
    "\n",
    "df_credito.to_parquet(caminho_bronze_credito, engine = \"pyarrow\", index = False)"
   ]
  }
 ],
 "metadata": {
  "kernelspec": {
   "display_name": "Python 3",
   "language": "python",
   "name": "python3"
  },
  "language_info": {
   "codemirror_mode": {
    "name": "ipython",
    "version": 3
   },
   "file_extension": ".py",
   "mimetype": "text/x-python",
   "name": "python",
   "nbconvert_exporter": "python",
   "pygments_lexer": "ipython3",
   "version": "3.11.7"
  }
 },
 "nbformat": 4,
 "nbformat_minor": 5
}
