{
 "cells": [
  {
   "cell_type": "code",
   "execution_count": 45,
   "id": "2c1156e9",
   "metadata": {},
   "outputs": [],
   "source": [
    "import pandas as pd\n",
    "import os\n",
    "import pyarrow.parquet as pq\n",
    "from datetime import date \n",
    "from pathlib import Path"
   ]
  },
  {
   "cell_type": "code",
   "execution_count": 46,
   "id": "a843ae87",
   "metadata": {},
   "outputs": [],
   "source": [
    "# caminho dos arquivos csv's de movimentação\n",
    "path_movimetacao = Path(\"C:/Users/dougl/OneDrive/Área de Trabalho/ESTUDOS/nubank-data-engineering-portfolio/arquivos_nubank/conta\")\n",
    "\n",
    "# caminho dos arquivos csv's de gastos em créditos\n",
    "path_credito = Path(\"C:/Users/dougl/OneDrive/Área de Trabalho/ESTUDOS/nubank-data-engineering-portfolio/arquivos_nubank/cartao_credito\")\n",
    "\n",
    "# data atual para ser utilizada como parte do nome das pastas em que será salvo os arquivos parquet\n",
    "today = date.today().isoformat()\n",
    "\n",
    "# caminho para salvar arquivo parquet final na pasta bronze\n",
    "path_bronze = Path(\"C:/Users/dougl/OneDrive/Área de Trabalho/ESTUDOS/nubank-data-engineering-portfolio/data/bronze/{today}\")"
   ]
  },
  {
   "cell_type": "code",
   "execution_count": 47,
   "id": "82809b93",
   "metadata": {},
   "outputs": [],
   "source": [
    "## Função para unificar os arquivos e retornar em um dataframe para que possa salvar na camada raw\n",
    "\n",
    "def unifica_arquivos(local_arquivo):\n",
    "    lista_dfs = []\n",
    "        \n",
    "    for arquivo in os.listdir(local_arquivo):\n",
    "        if arquivo.endswith('.csv'):\n",
    "            caminho_arquivo = os.path.join(local_arquivo, arquivo)\n",
    "            df = pd.read_csv(caminho_arquivo)\n",
    "            lista_dfs.append(df)\n",
    "\n",
    "    arquivo_final = pd.concat(lista_dfs, ignore_index = True)\n",
    "\n",
    "    return arquivo_final"
   ]
  },
  {
   "cell_type": "code",
   "execution_count": null,
   "id": "5659538f",
   "metadata": {},
   "outputs": [],
   "source": [
    "# ingestão dos dados dos csv's de movimentação da conta\n",
    "\n",
    "df_movimentacao = unifica_arquivos(path_movimetacao)\n",
    "\n",
    "caminho_bronze_movimentacao = Path(path_bronze/\"movimentacao.parquet\")\n",
    "\n",
    "df_movimentacao.to_parquet(caminho_bronze_movimentacao, index = False)"
   ]
  },
  {
   "cell_type": "code",
   "execution_count": 48,
   "id": "130f6655",
   "metadata": {},
   "outputs": [],
   "source": [
    "# ingestão dos dados dos csv's de compras em crédito\n",
    "\n",
    "df_credito = unifica_arquivos(path_credito)"
   ]
  },
  {
   "cell_type": "code",
   "execution_count": 40,
   "id": "0c53a55a",
   "metadata": {},
   "outputs": [
    {
     "name": "stdout",
     "output_type": "stream",
     "text": [
      "2025-07-24\n"
     ]
    }
   ],
   "source": [
    "print(today)"
   ]
  }
 ],
 "metadata": {
  "kernelspec": {
   "display_name": "Python 3",
   "language": "python",
   "name": "python3"
  },
  "language_info": {
   "codemirror_mode": {
    "name": "ipython",
    "version": 3
   },
   "file_extension": ".py",
   "mimetype": "text/x-python",
   "name": "python",
   "nbconvert_exporter": "python",
   "pygments_lexer": "ipython3",
   "version": "3.11.7"
  }
 },
 "nbformat": 4,
 "nbformat_minor": 5
}
