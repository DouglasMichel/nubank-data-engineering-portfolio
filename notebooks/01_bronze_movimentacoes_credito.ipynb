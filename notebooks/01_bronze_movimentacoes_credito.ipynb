{
 "cells": [
  {
   "cell_type": "code",
   "execution_count": 4,
   "id": "2c1156e9",
   "metadata": {},
   "outputs": [],
   "source": [
    "import polars as pl\n",
    "from deltalake.writer import write_deltalake\n",
    "import os\n",
    "from datetime import date \n",
    "from pathlib import Path\n",
    "import shutil\n",
    "import stat"
   ]
  },
  {
   "cell_type": "code",
   "execution_count": 5,
   "id": "a843ae87",
   "metadata": {},
   "outputs": [],
   "source": [
    "# VARIAVEIS E FUNCOES\n",
    "\n",
    "# caminho dos arquivos csv's de movimentação\n",
    "path_movimetacao = Path(\"C:/Users/dougl/OneDrive/Área de Trabalho/ESTUDOS/nubank-data-engineering-portfolio/arquivos_nubank/conta\")\n",
    "\n",
    "# caminho dos arquivos csv's de gastos em créditos\n",
    "path_credito = Path(\"C:/Users/dougl/OneDrive/Área de Trabalho/ESTUDOS/nubank-data-engineering-portfolio/arquivos_nubank/cartao_credito\")\n",
    "\n",
    "# data atual para ser utilizada como parte do nome das pastas em que será salvo os arquivos parquet\n",
    "today = date.today().isoformat()\n",
    "\n",
    "# caminho para salvar arquivo parquet final na pasta bronze\n",
    "path_bronze = Path(f\"C:/Users/dougl/OneDrive/Área de Trabalho/ESTUDOS/nubank-data-engineering-portfolio/data/bronze/{today}\")\n",
    "\n",
    "# Remove a pasta e arquivos dentro dela caso já exista (path_bronze)\n",
    "def remove_readonly(func, path, _):\n",
    "    \"\"\"Altera permissão para escrita e tenta remover o arquivo novamente\"\"\"\n",
    "    os.chmod(path, stat.S_IWRITE)\n",
    "    func(path)"
   ]
  },
  {
   "cell_type": "code",
   "execution_count": 6,
   "id": "af6b7c29",
   "metadata": {},
   "outputs": [],
   "source": [
    "# PREPARAR PASTAS PARA RECEBER DELTAS COM DADOS INGERIDOS DOS CSV'S\n",
    "\n",
    "# Excluir a pasta se ela já existir\n",
    "if os.path.exists(path_bronze):\n",
    "    shutil.rmtree(path_bronze, onerror=remove_readonly)\n",
    "\n",
    "# criar o caminho para salvar os arquivos\n",
    "os.makedirs(path_bronze)"
   ]
  },
  {
   "cell_type": "code",
   "execution_count": 7,
   "id": "82809b93",
   "metadata": {},
   "outputs": [],
   "source": [
    "## Função para unificar os arquivos e retornar em um dataframe para que possa salvar na camada raw\n",
    "\n",
    "def unifica_arquivos(local_arquivo):\n",
    "    lista_dfs = []\n",
    "        \n",
    "    for arquivo in os.listdir(local_arquivo):\n",
    "        if arquivo.endswith('.csv'):\n",
    "            caminho_arquivo = os.path.join(local_arquivo, arquivo)\n",
    "            df = pl.read_csv(caminho_arquivo)\n",
    "            lista_dfs.append(df)\n",
    "\n",
    "    arquivo_final = pl.concat(lista_dfs, how = 'vertical')\n",
    "\n",
    "    return arquivo_final"
   ]
  },
  {
   "cell_type": "code",
   "execution_count": null,
   "id": "5659538f",
   "metadata": {},
   "outputs": [],
   "source": [
    "# ingestão dos dados dos csv's de movimentação da conta\n",
    "\n",
    "df_movimentacao = unifica_arquivos(path_movimetacao)\n",
    "\n",
    "caminho_bronze_movimentacao = Path(path_bronze/\"movimentacao\")\n",
    "\n",
    "write_deltalake(caminho_bronze_movimentacao, df_movimentacao, mode = 'overwrite')"
   ]
  },
  {
   "cell_type": "code",
   "execution_count": null,
   "id": "130f6655",
   "metadata": {},
   "outputs": [],
   "source": [
    "# ingestão dos dados dos csv's de compras em crédito\n",
    "\n",
    "df_credito = unifica_arquivos(path_credito)\n",
    "\n",
    "caminho_bronze_credito = Path(path_bronze/\"credito\")\n",
    "\n",
    "write_deltalake(caminho_bronze_credito, df_credito, mode = 'overwrite')"
   ]
  },
  {
   "cell_type": "code",
   "execution_count": 10,
   "id": "985af0de",
   "metadata": {},
   "outputs": [
    {
     "data": {
      "text/html": [
       "<div><style>\n",
       ".dataframe > thead > tr,\n",
       ".dataframe > tbody > tr {\n",
       "  text-align: right;\n",
       "  white-space: pre-wrap;\n",
       "}\n",
       "</style>\n",
       "<small>shape: (447, 4)</small><table border=\"1\" class=\"dataframe\"><thead><tr><th>Data</th><th>Valor</th><th>Identificador</th><th>Descrição</th></tr><tr><td>str</td><td>f64</td><td>str</td><td>str</td></tr></thead><tbody><tr><td>&quot;05/04/2023&quot;</td><td>8850.95</td><td>&quot;767e15ff-21b2-4f53-b38b-c5a06d…</td><td>&quot;Transferência recebida pelo Pi…</td></tr><tr><td>&quot;07/04/2023&quot;</td><td>-385.92</td><td>&quot;d1957c41-bdf4-4334-a51f-5d28b0…</td><td>&quot;Compra no débito - Assaí&quot;</td></tr><tr><td>&quot;08/04/2023&quot;</td><td>-2086.44</td><td>&quot;79c0eb87-af0c-4fc7-acc8-7b9361…</td><td>&quot;Pagamento de boleto - Aluguel&quot;</td></tr><tr><td>&quot;08/04/2023&quot;</td><td>-10.64</td><td>&quot;60a56b98-6a8d-41ff-81d5-57122f…</td><td>&quot;Compra no débito - Café Centra…</td></tr><tr><td>&quot;09/04/2023&quot;</td><td>-561.15</td><td>&quot;d90633b5-e73d-4f18-98ac-4649b5…</td><td>&quot;Transferência enviada pelo Pix…</td></tr><tr><td>&hellip;</td><td>&hellip;</td><td>&hellip;</td><td>&hellip;</td></tr><tr><td>&quot;19/09/2024&quot;</td><td>-172.91</td><td>&quot;3b6cfdd8-2f46-42f8-8999-29eaad…</td><td>&quot;Pagamento de boleto - Água Sab…</td></tr><tr><td>&quot;19/09/2024&quot;</td><td>-2372.26</td><td>&quot;5bf492d9-f561-4ba1-bbaa-20a030…</td><td>&quot;Pagamento fatura cartão Nubank&quot;</td></tr><tr><td>&quot;19/09/2024&quot;</td><td>-106.53</td><td>&quot;e09196e4-8ac8-4ba7-9f25-9ffff3…</td><td>&quot;Pagamento de boleto - Escola&quot;</td></tr><tr><td>&quot;25/09/2024&quot;</td><td>-14.4</td><td>&quot;db56e20a-9f67-4656-a64a-f57f1c…</td><td>&quot;Compra no débito - Açai Mix&quot;</td></tr><tr><td>&quot;28/09/2024&quot;</td><td>-767.8</td><td>&quot;3fa7d193-d127-4e85-b682-e1aafb…</td><td>&quot;Compra no débito - Despesa Ext…</td></tr></tbody></table></div>"
      ],
      "text/plain": [
       "shape: (447, 4)\n",
       "┌────────────┬──────────┬─────────────────────────────────┬─────────────────────────────────┐\n",
       "│ Data       ┆ Valor    ┆ Identificador                   ┆ Descrição                       │\n",
       "│ ---        ┆ ---      ┆ ---                             ┆ ---                             │\n",
       "│ str        ┆ f64      ┆ str                             ┆ str                             │\n",
       "╞════════════╪══════════╪═════════════════════════════════╪═════════════════════════════════╡\n",
       "│ 05/04/2023 ┆ 8850.95  ┆ 767e15ff-21b2-4f53-b38b-c5a06d… ┆ Transferência recebida pelo Pi… │\n",
       "│ 07/04/2023 ┆ -385.92  ┆ d1957c41-bdf4-4334-a51f-5d28b0… ┆ Compra no débito - Assaí        │\n",
       "│ 08/04/2023 ┆ -2086.44 ┆ 79c0eb87-af0c-4fc7-acc8-7b9361… ┆ Pagamento de boleto - Aluguel   │\n",
       "│ 08/04/2023 ┆ -10.64   ┆ 60a56b98-6a8d-41ff-81d5-57122f… ┆ Compra no débito - Café Centra… │\n",
       "│ 09/04/2023 ┆ -561.15  ┆ d90633b5-e73d-4f18-98ac-4649b5… ┆ Transferência enviada pelo Pix… │\n",
       "│ …          ┆ …        ┆ …                               ┆ …                               │\n",
       "│ 19/09/2024 ┆ -172.91  ┆ 3b6cfdd8-2f46-42f8-8999-29eaad… ┆ Pagamento de boleto - Água Sab… │\n",
       "│ 19/09/2024 ┆ -2372.26 ┆ 5bf492d9-f561-4ba1-bbaa-20a030… ┆ Pagamento fatura cartão Nubank  │\n",
       "│ 19/09/2024 ┆ -106.53  ┆ e09196e4-8ac8-4ba7-9f25-9ffff3… ┆ Pagamento de boleto - Escola    │\n",
       "│ 25/09/2024 ┆ -14.4    ┆ db56e20a-9f67-4656-a64a-f57f1c… ┆ Compra no débito - Açai Mix     │\n",
       "│ 28/09/2024 ┆ -767.8   ┆ 3fa7d193-d127-4e85-b682-e1aafb… ┆ Compra no débito - Despesa Ext… │\n",
       "└────────────┴──────────┴─────────────────────────────────┴─────────────────────────────────┘"
      ]
     },
     "metadata": {},
     "output_type": "display_data"
    }
   ],
   "source": [
    "display(df_movimentacao)"
   ]
  }
 ],
 "metadata": {
  "kernelspec": {
   "display_name": "Python 3",
   "language": "python",
   "name": "python3"
  },
  "language_info": {
   "codemirror_mode": {
    "name": "ipython",
    "version": 3
   },
   "file_extension": ".py",
   "mimetype": "text/x-python",
   "name": "python",
   "nbconvert_exporter": "python",
   "pygments_lexer": "ipython3",
   "version": "3.11.7"
  }
 },
 "nbformat": 4,
 "nbformat_minor": 5
}
