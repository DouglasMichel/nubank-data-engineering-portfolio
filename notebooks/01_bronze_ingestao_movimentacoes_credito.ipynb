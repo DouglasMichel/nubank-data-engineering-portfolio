{
 "cells": [
  {
   "cell_type": "code",
   "execution_count": 23,
   "id": "2c1156e9",
   "metadata": {},
   "outputs": [],
   "source": [
    "import polars as pl\n",
    "from deltalake.writer import write_deltalake\n",
    "import os\n",
    "from datetime import date \n",
    "from pathlib import Path"
   ]
  },
  {
   "cell_type": "code",
   "execution_count": 24,
   "id": "a843ae87",
   "metadata": {},
   "outputs": [],
   "source": [
    "# VARIAVEIS E FUNCOES\n",
    "\n",
    "# caminho dos arquivos csv's de movimentação\n",
    "path_movimetacao = Path(\"C:/Users/dougl/OneDrive/Área de Trabalho/ESTUDOS/nubank-data-engineering-portfolio/arquivos_nubank/conta\")\n",
    "\n",
    "# caminho dos arquivos csv's de gastos em créditos\n",
    "path_credito = Path(\"C:/Users/dougl/OneDrive/Área de Trabalho/ESTUDOS/nubank-data-engineering-portfolio/arquivos_nubank/cartao_credito\")\n",
    "\n",
    "# data atual para ser utilizada como parte do nome das pastas em que será salvo os arquivos parquet\n",
    "today = date.today().isoformat()\n",
    "\n",
    "# caminho para salvar arquivo parquet final na pasta bronze\n",
    "# path_bronze = Path(f\"C:/Users/dougl/OneDrive/Área de Trabalho/ESTUDOS/nubank-data-engineering-portfolio/data/bronze/{today}\")\n",
    "path_bronze = Path(f\"C:/Users/dougl/OneDrive/Área de Trabalho/ESTUDOS/nubank-data-engineering-portfolio/data/bronze\")\n"
   ]
  },
  {
   "cell_type": "code",
   "execution_count": 25,
   "id": "af6b7c29",
   "metadata": {},
   "outputs": [
    {
     "name": "stdout",
     "output_type": "stream",
     "text": [
      "Caminho existente, seguindo com ingestão/atualização dos dados.\n",
      "\n"
     ]
    }
   ],
   "source": [
    "# # PREPARAR PASTAS PARA RECEBER DELTAS COM DADOS INGERIDOS DOS CSV'S\n",
    "try:\n",
    "    # Verifica se caminho ja existe, sim, informa no prompt a existencia se nao cria e informa que foi criada\n",
    "    if os.path.exists(path_bronze):\n",
    "        print('Caminho existente, seguindo com ingestão/atualização dos dados.\\n')\n",
    "        \n",
    "    else: \n",
    "        # criar o caminho para salvar os arquivos\n",
    "        print('Pasta bronze criada para armazenamento dos dados ingeridos.\\n')\n",
    "        os.makedirs(path_bronze)\n",
    "\n",
    "except: print('Ops!!! Nao foi possivel criar a pasta para salvar os dados ingeridos!\\n')"
   ]
  },
  {
   "cell_type": "code",
   "execution_count": 26,
   "id": "82809b93",
   "metadata": {},
   "outputs": [],
   "source": [
    "## Função para unificar os arquivos e retornar em um dataframe para que possa salvar na camada raw\n",
    "\n",
    "def unifica_arquivos(local_arquivo):\n",
    "    lista_dfs = []\n",
    "        \n",
    "    for arquivo in os.listdir(local_arquivo):\n",
    "        if arquivo.endswith('.csv'):\n",
    "            caminho_arquivo = os.path.join(local_arquivo, arquivo)\n",
    "            df = pl.read_csv(caminho_arquivo)\n",
    "            lista_dfs.append(df)\n",
    "\n",
    "    arquivo_final = pl.concat(lista_dfs, how = 'vertical')\n",
    "\n",
    "    return arquivo_final"
   ]
  },
  {
   "cell_type": "code",
   "execution_count": 27,
   "id": "5659538f",
   "metadata": {},
   "outputs": [
    {
     "name": "stdout",
     "output_type": "stream",
     "text": [
      "Dados de movimentacao foram ingeridos com sucesso!\n",
      "\n"
     ]
    }
   ],
   "source": [
    "# ingestão dos dados dos csv's de movimentação da conta\n",
    "\n",
    "df_movimentacao = unifica_arquivos(path_movimetacao)\n",
    "\n",
    "caminho_bronze_movimentacao = Path(path_bronze/\"movimentacao\")\n",
    "\n",
    "write_deltalake(caminho_bronze_movimentacao, df_movimentacao, mode = 'append')\n",
    "\n",
    "print('Dados de movimentacao foram ingeridos com sucesso!\\n')"
   ]
  },
  {
   "cell_type": "code",
   "execution_count": 28,
   "id": "130f6655",
   "metadata": {},
   "outputs": [
    {
     "name": "stdout",
     "output_type": "stream",
     "text": [
      "Dados de compras no cartao de credito foram ingeridos com sucesso!\n",
      "\n"
     ]
    }
   ],
   "source": [
    "# ingestão dos dados dos csv's de compras em crédito\n",
    "\n",
    "df_credito = unifica_arquivos(path_credito)\n",
    "\n",
    "caminho_bronze_credito = Path(path_bronze/\"credito\")\n",
    "\n",
    "write_deltalake(caminho_bronze_credito, df_credito, mode = 'append')\n",
    "\n",
    "print('Dados de compras no cartao de credito foram ingeridos com sucesso!\\n')"
   ]
  }
 ],
 "metadata": {
  "kernelspec": {
   "display_name": "Python 3",
   "language": "python",
   "name": "python3"
  },
  "language_info": {
   "codemirror_mode": {
    "name": "ipython",
    "version": 3
   },
   "file_extension": ".py",
   "mimetype": "text/x-python",
   "name": "python",
   "nbconvert_exporter": "python",
   "pygments_lexer": "ipython3",
   "version": "3.11.7"
  }
 },
 "nbformat": 4,
 "nbformat_minor": 5
}
